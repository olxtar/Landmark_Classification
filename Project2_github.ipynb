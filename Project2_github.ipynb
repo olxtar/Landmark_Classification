{
 "cells": [
  {
   "cell_type": "markdown",
   "id": "5c518852",
   "metadata": {},
   "source": [
    "# Create Repository"
   ]
  },
  {
   "cell_type": "code",
   "execution_count": 60,
   "id": "cad6fc61",
   "metadata": {},
   "outputs": [
    {
     "name": "stdout",
     "output_type": "stream",
     "text": [
      "Reinitialized existing Git repository in C:/Users/USER/Desktop/Landmark_Classification/code/.git/\n"
     ]
    }
   ],
   "source": [
    "!git init"
   ]
  },
  {
   "cell_type": "code",
   "execution_count": 63,
   "id": "4cbd9105",
   "metadata": {},
   "outputs": [],
   "source": [
    "!git config --global core.autocrlf True"
   ]
  },
  {
   "cell_type": "code",
   "execution_count": 64,
   "id": "ba9bdb7c",
   "metadata": {},
   "outputs": [],
   "source": [
    "!git add ."
   ]
  },
  {
   "cell_type": "code",
   "execution_count": 65,
   "id": "9aa640b7",
   "metadata": {},
   "outputs": [
    {
     "name": "stdout",
     "output_type": "stream",
     "text": [
      "[main f54e789] first commit\n",
      " 4 files changed, 2065 insertions(+), 102 deletions(-)\n",
      " create mode 100644 .ipynb_checkpoints/Project2_Landmark_Classification-checkpoint.ipynb\n",
      " create mode 100644 .ipynb_checkpoints/Project2_github-checkpoint.ipynb\n"
     ]
    }
   ],
   "source": [
    "!git commit -m \"first commit\""
   ]
  },
  {
   "cell_type": "code",
   "execution_count": 66,
   "id": "08dfda1f",
   "metadata": {},
   "outputs": [],
   "source": [
    "!git branch -M main"
   ]
  },
  {
   "cell_type": "code",
   "execution_count": 67,
   "id": "059e256d",
   "metadata": {},
   "outputs": [
    {
     "name": "stderr",
     "output_type": "stream",
     "text": [
      "error: remote origin already exists.\n"
     ]
    }
   ],
   "source": [
    "!git remote add origin https://github.com/olxtar/Landmark_Classification.git"
   ]
  },
  {
   "cell_type": "code",
   "execution_count": 68,
   "id": "2e58fdb3",
   "metadata": {},
   "outputs": [
    {
     "name": "stdout",
     "output_type": "stream",
     "text": [
      "branch 'main' set up to track 'origin/main'.\n"
     ]
    },
    {
     "name": "stderr",
     "output_type": "stream",
     "text": [
      "To https://github.com/olxtar/Landmark_Classification.git\n",
      " * [new branch]      main -> main\n"
     ]
    }
   ],
   "source": [
    "!git push -u origin main"
   ]
  },
  {
   "cell_type": "markdown",
   "id": "89342629",
   "metadata": {},
   "source": [
    "---"
   ]
  },
  {
   "cell_type": "markdown",
   "id": "4d54f1aa",
   "metadata": {},
   "source": [
    "# Commit (after second one)"
   ]
  },
  {
   "cell_type": "markdown",
   "id": "4b6d56bc",
   "metadata": {},
   "source": [
    "$\\uparrow$ 여기까지는 첫 commit\n",
    "아래서부터는 추가 시 실행"
   ]
  },
  {
   "cell_type": "code",
   "execution_count": 24,
   "id": "cde4d5dd",
   "metadata": {},
   "outputs": [
    {
     "name": "stderr",
     "output_type": "stream",
     "text": [
      "error: remote origin already exists.\n"
     ]
    }
   ],
   "source": [
    "!git remote add origin https://github.com/olxtar/Landmark_Classification.git"
   ]
  },
  {
   "cell_type": "code",
   "execution_count": 25,
   "id": "2556f557",
   "metadata": {},
   "outputs": [],
   "source": [
    "!git config --global core.autocrlf True"
   ]
  },
  {
   "cell_type": "code",
   "execution_count": 26,
   "id": "7eb7e5d9",
   "metadata": {},
   "outputs": [],
   "source": [
    "!git add ."
   ]
  },
  {
   "cell_type": "code",
   "execution_count": 15,
   "id": "67bf53cf",
   "metadata": {},
   "outputs": [
    {
     "name": "stdout",
     "output_type": "stream",
     "text": [
      "[main 01164f2] commit_20220603\n",
      " 4 files changed, 94 insertions(+), 92 deletions(-)\n",
      " delete mode 100644 weight_init_test.pt\n"
     ]
    }
   ],
   "source": [
    "!git commit -m \"commit_20220603\""
   ]
  },
  {
   "cell_type": "code",
   "execution_count": null,
   "id": "4fb8fe67",
   "metadata": {},
   "outputs": [],
   "source": [
    "!git push -u origin main"
   ]
  },
  {
   "cell_type": "markdown",
   "id": "8cab84bb",
   "metadata": {},
   "source": [
    "## + commit history 삭제\n",
    "\n",
    "git repo가 보고있는 나의 로컬PC에서 너무 큰 용량의 파일이 있으면 git repo에 올라가질 않는다.\n",
    "그냥 못올리기만 하면 좋은데...\n",
    "\n",
    "해당 파일을 지우고 다시 push하려하면 이미 History가 꼬여서(?) 아래의 오류처럼 올라가질 않는다\n",
    "\n",
    "아래의 `!git_status`를 통해 쌓여있는 commit들을 확인하고\n",
    "`!git reset HEAD~` 명령어를 통해 삭제해주고 다시 올려보자"
   ]
  },
  {
   "cell_type": "code",
   "execution_count": 27,
   "id": "459d8335",
   "metadata": {},
   "outputs": [
    {
     "name": "stderr",
     "output_type": "stream",
     "text": [
      "remote: error: Trace: 9526cecc23772d24b60545fac43022cad74ce93421f6ed72b9f35402f74b3966        \n",
      "remote: error: See http://git.io/iEPt8g for more information.        \n",
      "remote: error: File weight_init_test.pt is 257.15 MB; this exceeds GitHub's file size limit of 100.00 MB        \n",
      "remote: error: GH001: Large files detected. You may want to try Git Large File Storage - https://git-lfs.github.com.        \n",
      "To https://github.com/olxtar/Landmark_Classification.git\n",
      " ! [remote rejected] main -> main (pre-receive hook declined)\n",
      "error: failed to push some refs to 'https://github.com/olxtar/Landmark_Classification.git'\n"
     ]
    }
   ],
   "source": [
    "!git push -u origin main"
   ]
  },
  {
   "cell_type": "code",
   "execution_count": 37,
   "id": "24cefc9d",
   "metadata": {},
   "outputs": [
    {
     "name": "stdout",
     "output_type": "stream",
     "text": [
      "On branch main\n",
      "Your branch is ahead of 'origin/main' by 4 commits.\n",
      "  (use \"git push\" to publish your local commits)\n",
      "\n",
      "Changes not staged for commit:\n",
      "  (use \"git add <file>...\" to update what will be committed)\n",
      "  (use \"git restore <file>...\" to discard changes in working directory)\n",
      "\tmodified:   Project2_github.ipynb\n",
      "\n",
      "no changes added to commit (use \"git add\" and/or \"git commit -a\")\n"
     ]
    }
   ],
   "source": [
    "!git status\n",
    "# 저 4 commits를 삭제해줘야됨, "
   ]
  },
  {
   "cell_type": "code",
   "execution_count": 58,
   "id": "146e690d",
   "metadata": {},
   "outputs": [
    {
     "name": "stdout",
     "output_type": "stream",
     "text": [
      "Unstaged changes after reset:\n",
      "M\tProject2_Landmark_Classification.ipynb\n",
      "M\tProject2_github.ipynb\n"
     ]
    }
   ],
   "source": [
    "!git reset HEAD~0"
   ]
  },
  {
   "cell_type": "code",
   "execution_count": 59,
   "id": "b8793f11",
   "metadata": {},
   "outputs": [
    {
     "name": "stdout",
     "output_type": "stream",
     "text": [
      "On branch main\n",
      "Your branch is behind 'origin/main' by 1 commit, and can be fast-forwarded.\n",
      "  (use \"git pull\" to update your local branch)\n",
      "\n",
      "Changes not staged for commit:\n",
      "  (use \"git add <file>...\" to update what will be committed)\n",
      "  (use \"git restore <file>...\" to discard changes in working directory)\n",
      "\tmodified:   Project2_Landmark_Classification.ipynb\n",
      "\tmodified:   Project2_github.ipynb\n",
      "\n",
      "Untracked files:\n",
      "  (use \"git add <file>...\" to include in what will be committed)\n",
      "\t.ipynb_checkpoints/\n",
      "\n",
      "no changes added to commit (use \"git add\" and/or \"git commit -a\")\n"
     ]
    }
   ],
   "source": [
    "!git status"
   ]
  },
  {
   "cell_type": "code",
   "execution_count": null,
   "id": "2f5d8139",
   "metadata": {},
   "outputs": [],
   "source": []
  },
  {
   "cell_type": "code",
   "execution_count": null,
   "id": "99d861bf",
   "metadata": {},
   "outputs": [],
   "source": []
  }
 ],
 "metadata": {
  "kernelspec": {
   "display_name": "Python 3 (ipykernel)",
   "language": "python",
   "name": "python3"
  },
  "language_info": {
   "codemirror_mode": {
    "name": "ipython",
    "version": 3
   },
   "file_extension": ".py",
   "mimetype": "text/x-python",
   "name": "python",
   "nbconvert_exporter": "python",
   "pygments_lexer": "ipython3",
   "version": "3.9.7"
  }
 },
 "nbformat": 4,
 "nbformat_minor": 5
}
