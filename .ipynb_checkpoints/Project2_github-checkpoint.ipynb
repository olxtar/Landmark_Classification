{
 "cells": [
  {
   "cell_type": "code",
   "execution_count": 1,
   "id": "cad6fc61",
   "metadata": {},
   "outputs": [
    {
     "name": "stdout",
     "output_type": "stream",
     "text": [
      "Initialized empty Git repository in C:/Users/USER/Desktop/Landmark_Classification/code/.git/\n"
     ]
    },
    {
     "name": "stderr",
     "output_type": "stream",
     "text": [
      "hint: Using 'master' as the name for the initial branch. This default branch name\n",
      "hint: is subject to change. To configure the initial branch name to use in all\n",
      "hint: of your new repositories, which will suppress this warning, call:\n",
      "hint: \n",
      "hint: \tgit config --global init.defaultBranch <name>\n",
      "hint: \n",
      "hint: Names commonly chosen instead of 'master' are 'main', 'trunk' and\n",
      "hint: 'development'. The just-created branch can be renamed via this command:\n",
      "hint: \n",
      "hint: \tgit branch -m <name>\n"
     ]
    }
   ],
   "source": [
    "!git init"
   ]
  },
  {
   "cell_type": "code",
   "execution_count": 4,
   "id": "4cbd9105",
   "metadata": {},
   "outputs": [],
   "source": [
    "!git config --global core.autocrlf True"
   ]
  },
  {
   "cell_type": "code",
   "execution_count": 5,
   "id": "ba9bdb7c",
   "metadata": {},
   "outputs": [],
   "source": [
    "!git add ."
   ]
  },
  {
   "cell_type": "code",
   "execution_count": 6,
   "id": "9aa640b7",
   "metadata": {},
   "outputs": [
    {
     "name": "stdout",
     "output_type": "stream",
     "text": [
      "[master (root-commit) 0221947] first commit\n",
      " 2 files changed, 1379 insertions(+)\n",
      " create mode 100644 Project2_Landmark_Classification.ipynb\n",
      " create mode 100644 Project2_github.ipynb\n"
     ]
    }
   ],
   "source": [
    "!git commit -m \"first commit\""
   ]
  },
  {
   "cell_type": "code",
   "execution_count": 7,
   "id": "08dfda1f",
   "metadata": {},
   "outputs": [],
   "source": [
    "!git branch -M main"
   ]
  },
  {
   "cell_type": "markdown",
   "id": "4b6d56bc",
   "metadata": {},
   "source": [
    "$\\uparrow$ 여기까지는 첫 commit\n",
    "아래서부터는 추가 시 실행"
   ]
  },
  {
   "cell_type": "code",
   "execution_count": 8,
   "id": "cde4d5dd",
   "metadata": {},
   "outputs": [],
   "source": [
    "!git remote add origin https://github.com/olxtar/Landmark_Classification.git"
   ]
  },
  {
   "cell_type": "code",
   "execution_count": 53,
   "id": "2556f557",
   "metadata": {},
   "outputs": [],
   "source": [
    "!git config --global core.autocrlf True"
   ]
  },
  {
   "cell_type": "code",
   "execution_count": 9,
   "id": "5d794b82",
   "metadata": {},
   "outputs": [],
   "source": [
    "!git add ."
   ]
  },
  {
   "cell_type": "code",
   "execution_count": 10,
   "id": "bd7bfa73",
   "metadata": {},
   "outputs": [
    {
     "name": "stdout",
     "output_type": "stream",
     "text": [
      "branch 'main' set up to track 'origin/main'.\n"
     ]
    },
    {
     "name": "stderr",
     "output_type": "stream",
     "text": [
      "To https://github.com/olxtar/Landmark_Classification.git\n",
      " * [new branch]      main -> main\n"
     ]
    }
   ],
   "source": [
    "!git push -u origin main"
   ]
  },
  {
   "cell_type": "code",
   "execution_count": null,
   "id": "3f527805",
   "metadata": {},
   "outputs": [],
   "source": []
  },
  {
   "cell_type": "code",
   "execution_count": null,
   "id": "e4295c93",
   "metadata": {},
   "outputs": [],
   "source": []
  },
  {
   "cell_type": "code",
   "execution_count": null,
   "id": "099babd1",
   "metadata": {},
   "outputs": [],
   "source": []
  },
  {
   "cell_type": "code",
   "execution_count": null,
   "id": "cb0c0072",
   "metadata": {},
   "outputs": [],
   "source": []
  },
  {
   "cell_type": "code",
   "execution_count": 54,
   "id": "9b24eedf",
   "metadata": {},
   "outputs": [],
   "source": [
    "# !git add Project2_Landmark_Classification.ipynb"
   ]
  },
  {
   "cell_type": "code",
   "execution_count": 55,
   "id": "ae21c234",
   "metadata": {},
   "outputs": [
    {
     "name": "stdout",
     "output_type": "stream",
     "text": [
      "On branch main\n",
      "Your branch is ahead of 'origin/main' by 1 commit.\n",
      "  (use \"git push\" to publish your local commits)\n",
      "\n",
      "nothing to commit, working tree clean\n"
     ]
    }
   ],
   "source": [
    "# !git commit -m \"4th commit\""
   ]
  },
  {
   "cell_type": "code",
   "execution_count": 47,
   "id": "a75ad1b6",
   "metadata": {},
   "outputs": [
    {
     "name": "stdout",
     "output_type": "stream",
     "text": [
      "* main\n"
     ]
    }
   ],
   "source": [
    "!git branch"
   ]
  },
  {
   "cell_type": "code",
   "execution_count": 48,
   "id": "fc821b96",
   "metadata": {},
   "outputs": [
    {
     "name": "stderr",
     "output_type": "stream",
     "text": [
      "error: Your local changes to the following files would be overwritten by checkout:\n",
      "\tProject2_github.ipynb\n",
      "Please commit your changes or stash them before you switch branches.\n",
      "Aborting\n"
     ]
    }
   ],
   "source": [
    "!git switch --orphan main_2"
   ]
  },
  {
   "cell_type": "code",
   "execution_count": 50,
   "id": "874cc708",
   "metadata": {},
   "outputs": [],
   "source": [
    "!git config --global core.autocrlf True"
   ]
  },
  {
   "cell_type": "code",
   "execution_count": 51,
   "id": "20c8d700",
   "metadata": {},
   "outputs": [
    {
     "name": "stdout",
     "output_type": "stream",
     "text": [
      "No local changes to save\n"
     ]
    }
   ],
   "source": [
    "!git stash"
   ]
  },
  {
   "cell_type": "code",
   "execution_count": null,
   "id": "95275aa6",
   "metadata": {},
   "outputs": [],
   "source": []
  },
  {
   "cell_type": "code",
   "execution_count": null,
   "id": "84d4f1dd",
   "metadata": {},
   "outputs": [],
   "source": [
    "!git push -u origin main"
   ]
  },
  {
   "cell_type": "code",
   "execution_count": 32,
   "id": "12245fbc",
   "metadata": {},
   "outputs": [
    {
     "name": "stdout",
     "output_type": "stream",
     "text": [
      "On branch main\n",
      "Your branch is ahead of 'origin/main' by 1 commit.\n",
      "  (use \"git push\" to publish your local commits)\n",
      "\n",
      "Changes not staged for commit:\n",
      "  (use \"git add/rm <file>...\" to update what will be committed)\n",
      "  (use \"git restore <file>...\" to discard changes in working directory)\n",
      "\tmodified:   Project2_github.ipynb\n",
      "\tdeleted:    landmark_images.zip\n",
      "\n",
      "no changes added to commit (use \"git add\" and/or \"git commit -a\")\n"
     ]
    }
   ],
   "source": [
    "!git status"
   ]
  },
  {
   "cell_type": "code",
   "execution_count": 33,
   "id": "6e61597f",
   "metadata": {},
   "outputs": [
    {
     "name": "stdout",
     "output_type": "stream",
     "text": [
      "diff --git a/Project2_github.ipynb b/Project2_github.ipynb\n",
      "index 3f2cbf4..f868acc 100644\n",
      "--- a/Project2_github.ipynb\n",
      "+++ b/Project2_github.ipynb\n",
      "@@ -96,7 +96,7 @@\n",
      "   },\n",
      "   {\n",
      "    \"cell_type\": \"code\",\n",
      "-   \"execution_count\": 11,\n",
      "+   \"execution_count\": 19,\n",
      "    \"id\": \"cde4d5dd\",\n",
      "    \"metadata\": {},\n",
      "    \"outputs\": [\n",
      "@@ -114,8 +114,8 @@\n",
      "   },\n",
      "   {\n",
      "    \"cell_type\": \"code\",\n",
      "-   \"execution_count\": 14,\n",
      "-   \"id\": \"68b1c9c1\",\n",
      "+   \"execution_count\": 22,\n",
      "+   \"id\": \"5c39ccab\",\n",
      "    \"metadata\": {},\n",
      "    \"outputs\": [],\n",
      "    \"source\": [\n",
      "@@ -124,38 +124,45 @@\n",
      "   },\n",
      "   {\n",
      "    \"cell_type\": \"code\",\n",
      "-   \"execution_count\": 15,\n",
      "-   \"id\": \"5316f224\",\n",
      "+   \"execution_count\": 29,\n",
      "+   \"id\": \"271f2d85\",\n",
      "    \"metadata\": {},\n",
      "    \"outputs\": [],\n",
      "    \"source\": [\n",
      "-    \"!git add .\"\n",
      "+    \"!git add Project2_Landmark_Classification.ipynb\"\n",
      "    ]\n",
      "   },\n",
      "   {\n",
      "    \"cell_type\": \"code\",\n",
      "-   \"execution_count\": 17,\n",
      "-   \"id\": \"acb42a44\",\n",
      "+   \"execution_count\": 30,\n",
      "+   \"id\": \"424e2080\",\n",
      "    \"metadata\": {},\n",
      "    \"outputs\": [\n",
      "     {\n",
      "      \"name\": \"stdout\",\n",
      "      \"output_type\": \"stream\",\n",
      "      \"text\": [\n",
      "-      \"[main c85c89b] second commit\\n\",\n",
      "-      \" 4 files changed, 437 insertions(+), 4 deletions(-)\\n\",\n",
      "-      \" create mode 100644 .ipynb_checkpoints/Project2_github-checkpoint.ipynb\\n\",\n",
      "-      \" create mode 100644 Project2_github.ipynb\\n\"\n",
      "+      \"On branch main\\n\",\n",
      "+      \"Your branch is ahead of 'origin/main' by 1 commit.\\n\",\n",
      "+      \"  (use \\\"git push\\\" to publish your local commits)\\n\",\n",
      "+      \"\\n\",\n",
      "+      \"Changes not staged for commit:\\n\",\n",
      "+      \"  (use \\\"git add/rm <file>...\\\" to update what will be committed)\\n\",\n",
      "+      \"  (use \\\"git restore <file>...\\\" to discard changes in working directory)\\n\",\n",
      "+      \"\\tmodified:   Project2_github.ipynb\\n\",\n",
      "+      \"\\tdeleted:    landmark_images.zip\\n\",\n",
      "+      \"\\n\",\n",
      "+      \"no changes added to commit (use \\\"git add\\\" and/or \\\"git commit -a\\\")\\n\"\n",
      "      ]\n",
      "     }\n",
      "    ],\n",
      "    \"source\": [\n",
      "-    \"!git commit -m \\\"second commit\\\"\"\n",
      "+    \"!git commit -m \\\"third commit\\\"\"\n",
      "    ]\n",
      "   },\n",
      "   {\n",
      "    \"cell_type\": \"code\",\n",
      "-   \"execution_count\": 18,\n",
      "+   \"execution_count\": 31,\n",
      "    \"id\": \"84d4f1dd\",\n",
      "    \"metadata\": {},\n",
      "    \"outputs\": [\n",
      "@@ -163,15 +170,7 @@\n",
      "      \"name\": \"stdout\",\n",
      "      \"output_type\": \"stream\",\n",
      "      \"text\": [\n",
      "-      \"branch 'main' set up to track 'origin/main'.\\n\"\n",
      "-     ]\n",
      "-    },\n",
      "-    {\n",
      "-     \"name\": \"stderr\",\n",
      "-     \"output_type\": \"stream\",\n",
      "-     \"text\": [\n",
      "-      \"To https://github.com/olxtar/Landmark_Classification.git\\n\",\n",
      "-      \"   f3c13ce..c85c89b  main -> main\\n\"\n",
      "+      \"^C\\n\"\n",
      "      ]\n",
      "     }\n",
      "    ],\n",
      "diff --git a/landmark_images.zip b/landmark_images.zip\n",
      "deleted file mode 100644\n",
      "index 827f9f6..0000000\n",
      "Binary files a/landmark_images.zip and /dev/null differ\n"
     ]
    },
    {
     "name": "stderr",
     "output_type": "stream",
     "text": [
      "warning: LF will be replaced by CRLF in Project2_github.ipynb.\n",
      "The file will have its original line endings in your working directory\n"
     ]
    }
   ],
   "source": [
    "!git diff"
   ]
  },
  {
   "cell_type": "code",
   "execution_count": null,
   "id": "99d861bf",
   "metadata": {},
   "outputs": [],
   "source": []
  }
 ],
 "metadata": {
  "kernelspec": {
   "display_name": "Python 3 (ipykernel)",
   "language": "python",
   "name": "python3"
  },
  "language_info": {
   "codemirror_mode": {
    "name": "ipython",
    "version": 3
   },
   "file_extension": ".py",
   "mimetype": "text/x-python",
   "name": "python",
   "nbconvert_exporter": "python",
   "pygments_lexer": "ipython3",
   "version": "3.9.7"
  }
 },
 "nbformat": 4,
 "nbformat_minor": 5
}
