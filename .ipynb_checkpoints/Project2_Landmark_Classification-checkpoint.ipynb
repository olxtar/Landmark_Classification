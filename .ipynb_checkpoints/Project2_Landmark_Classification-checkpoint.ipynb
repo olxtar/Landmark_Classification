{
 "cells": [
  {
   "cell_type": "markdown",
   "id": "8aaaffdf",
   "metadata": {},
   "source": [
    "# 0. Settings"
   ]
  },
  {
   "cell_type": "code",
   "execution_count": 2,
   "id": "4e9bf644",
   "metadata": {},
   "outputs": [],
   "source": [
    "import cv2\n",
    "import matplotlib\n",
    "import matplotlib.pyplot as plt\n",
    "import numpy as np\n",
    "import PIL\n",
    "import torch\n",
    "import torchvision\n",
    "import os\n",
    "import zipfile\n",
    "import time\n",
    "\n",
    "from torchvision import datasets\n",
    "from torchvision import transforms as transforms\n",
    "from torch.utils.data.sampler import SubsetRandomSampler\n",
    "\n",
    "from PIL import Image\n",
    "\n",
    "import torch.optim as optim\n",
    "import torch.nn as nn\n",
    "import torch.nn.functional as F"
   ]
  },
  {
   "cell_type": "code",
   "execution_count": 6,
   "id": "5bd87876",
   "metadata": {},
   "outputs": [
    {
     "data": {
      "text/plain": [
       "'1.20.3'"
      ]
     },
     "execution_count": 6,
     "metadata": {},
     "output_type": "execute_result"
    }
   ],
   "source": [
    "np.__version__"
   ]
  },
  {
   "cell_type": "code",
   "execution_count": 10,
   "id": "78bf2076",
   "metadata": {},
   "outputs": [
    {
     "data": {
      "text/plain": [
       "'3.4.3'"
      ]
     },
     "execution_count": 10,
     "metadata": {},
     "output_type": "execute_result"
    }
   ],
   "source": [
    "matplotlib.__version__"
   ]
  },
  {
   "cell_type": "code",
   "execution_count": 2,
   "id": "926feff1",
   "metadata": {},
   "outputs": [],
   "source": [
    "%matplotlib inline"
   ]
  },
  {
   "cell_type": "markdown",
   "id": "f757caa4",
   "metadata": {},
   "source": [
    "---"
   ]
  },
  {
   "cell_type": "markdown",
   "id": "3284b6fd",
   "metadata": {},
   "source": [
    "# 1. Data Load\n",
    "\n",
    "\n"
   ]
  },
  {
   "cell_type": "markdown",
   "id": "d6cc94d0",
   "metadata": {},
   "source": [
    "## 1-0. Data Download\n",
    "\n",
    "![](https://velog.velcdn.com/images/olxtar/post/116994e9-a354-4936-ad5d-ea3ae20e42e2/image.png)\n",
    "\n",
    "랜드마크 데이터 다운로드 링크 : https://udacity-dlnfd.s3-us-west-1.amazonaws.com/datasets/landmark_images.zip\n",
    "\n",
    "<br/>\n",
    "\n",
    "* 50개의 랜드마크 클래스\n",
    "* 이미지 사이즈 Un-uniform"
   ]
  },
  {
   "cell_type": "markdown",
   "id": "2f9c506b",
   "metadata": {},
   "source": [
    "## 1-1. Data Extract\n",
    "\n",
    "로컬PC Landmark_Classification 폴더에 Landmark dataset 압축파일을 (다운로드 후) 직접 넣어주고 아래와 같이 알집해제하자"
   ]
  },
  {
   "cell_type": "code",
   "execution_count": 3,
   "id": "89c16a77",
   "metadata": {},
   "outputs": [
    {
     "data": {
      "text/plain": [
       "'C:\\\\Users\\\\USER\\\\Desktop\\\\Landmark_Classification\\\\code'"
      ]
     },
     "execution_count": 3,
     "metadata": {},
     "output_type": "execute_result"
    }
   ],
   "source": [
    "# 현재 경로 체크\n",
    "os.getcwd()"
   ]
  },
  {
   "cell_type": "code",
   "execution_count": 6,
   "id": "89df9e5e",
   "metadata": {},
   "outputs": [],
   "source": [
    "# 해당 python jupyter notebook working directory인 경로에 압축해제\n",
    "\n",
    "zipfile_path = 'C:\\\\Users\\\\USER\\\\Desktop\\\\Landmark_Classification/landmark_images.zip'\n",
    "\n",
    "landmark_image_zip = zipfile.ZipFile(zipfile_path)\n",
    "landmark_image_zip.extractall()\n",
    "\n",
    "landmark_image_zip.close()"
   ]
  },
  {
   "cell_type": "code",
   "execution_count": 3,
   "id": "117ed127",
   "metadata": {},
   "outputs": [
    {
     "data": {
      "text/plain": [
       "['.git', '.ipynb_checkpoints', 'code', 'landmark_images', 'model']"
      ]
     },
     "execution_count": 3,
     "metadata": {},
     "output_type": "execute_result"
    }
   ],
   "source": [
    "# 현재 경로 파일 체크 (압축해제확인)\n",
    "# landmark_images 폴더 생성 체크\n",
    "os.listdir('C:\\\\Users\\\\USER\\\\Desktop\\\\Landmark_Classification/')"
   ]
  },
  {
   "cell_type": "markdown",
   "id": "c8e911e5",
   "metadata": {},
   "source": [
    "## 1-2. Data path check "
   ]
  },
  {
   "cell_type": "code",
   "execution_count": 4,
   "id": "21b0c82d",
   "metadata": {},
   "outputs": [],
   "source": [
    "project_folder_path = 'C:\\\\Users\\\\USER\\\\Desktop\\\\Landmark_Classification/'\n",
    "traindata_path = os.path.join(project_folder_path, 'landmark_images', 'train')\n",
    "testdata_path = os.path.join(project_folder_path, 'landmark_images', 'test')"
   ]
  },
  {
   "cell_type": "code",
   "execution_count": 5,
   "id": "d18de251",
   "metadata": {},
   "outputs": [
    {
     "data": {
      "text/plain": [
       "True"
      ]
     },
     "execution_count": 5,
     "metadata": {},
     "output_type": "execute_result"
    }
   ],
   "source": [
    "# train folder 내 클래스 폴더명들과 test foler 내 클래스 폴더명들이 일치하는지\n",
    "os.listdir(traindata_path) == os.listdir(testdata_path)"
   ]
  },
  {
   "cell_type": "markdown",
   "id": "00616c40",
   "metadata": {},
   "source": [
    "---"
   ]
  },
  {
   "cell_type": "markdown",
   "id": "a73fbefe",
   "metadata": {},
   "source": [
    "# 2. Create a CNN (from scratch)"
   ]
  },
  {
   "cell_type": "markdown",
   "id": "bd855535",
   "metadata": {},
   "source": [
    "## 2-1. DataLoader\n",
    "\n",
    "<span style=\"color:green\">**[+]**</span> dataset, DataLoader 만들기 프로세스\n",
    "\n",
    "1. `batch_size`, `num_workers`, `val_size`, `data_path`(데이터경로), `transforms`등을 설정\n",
    "2. Datasets 만들기 $\\rightarrow$ `torchvision.datasets.ImageFolder()`\n",
    "\n",
    "3. Train set / Validation set 나누고 Sampler 만들기 $\\rightarrow$ 인덱스 나누고, 셔플 등\n",
    "4. DataLoader 만들기"
   ]
  },
  {
   "cell_type": "markdown",
   "id": "a1513dd6",
   "metadata": {},
   "source": [
    "### 2-1-1. Variable Setting for DataLoader"
   ]
  },
  {
   "cell_type": "code",
   "execution_count": 6,
   "id": "9e0dc396",
   "metadata": {},
   "outputs": [],
   "source": [
    "batch_size = 20\n",
    "num_workers = 0\n",
    "val_size = 0.2\n",
    "\n",
    "root_path = 'C:/Users/USER/Desktop/Landmark_Classification/'\n",
    "data_folder_path = os.path.join(root_path, 'landmark_images')\n",
    "train_folder_path = os.path.join(data_folder_path, 'train')\n",
    "test_folder_path = os.path.join(data_folder_path, 'test')\n",
    "\n",
    "my_transform = transforms.Compose([transforms.Resize(256),\n",
    "                                transforms.CenterCrop(256),\n",
    "                                transforms.ToTensor(),\n",
    "                                transforms.Normalize((0.5, 0.5, 0.5),\n",
    "                                                     (0.5, 0.5, 0.5))])"
   ]
  },
  {
   "cell_type": "markdown",
   "id": "2a5a0ad5",
   "metadata": {},
   "source": [
    "### 2-1-2. Make datasets"
   ]
  },
  {
   "cell_type": "code",
   "execution_count": 7,
   "id": "21e1e297",
   "metadata": {},
   "outputs": [],
   "source": [
    "train_data = datasets.ImageFolder(train_folder_path, transform = my_transform)\n",
    "test_data = datasets.ImageFolder(test_folder_path, transform = my_transform)"
   ]
  },
  {
   "cell_type": "code",
   "execution_count": 8,
   "id": "dd3e6411",
   "metadata": {},
   "outputs": [
    {
     "name": "stdout",
     "output_type": "stream",
     "text": [
      "<class 'torchvision.datasets.folder.ImageFolder'>\n",
      "<class 'torchvision.datasets.folder.ImageFolder'>\n",
      "4996\n",
      "1250\n"
     ]
    }
   ],
   "source": [
    "# Check\n",
    "print(type(train_data))\n",
    "print(type(test_data))\n",
    "\n",
    "print(len(train_data))\n",
    "print(len(test_data))\n",
    "\n",
    "# print(train_data.classes)        \n",
    "# print(test_data.classes)\n",
    "\n",
    "# print(train_data.class_to_idx)\n",
    "# print(test_data.class_to_idx)"
   ]
  },
  {
   "cell_type": "markdown",
   "id": "9ace3c49",
   "metadata": {},
   "source": [
    "### 2-1-3. Train / Valid"
   ]
  },
  {
   "cell_type": "code",
   "execution_count": 9,
   "id": "06a66f27",
   "metadata": {},
   "outputs": [],
   "source": [
    "num_train = len(train_data)       # 4996\n",
    "indices = list(range(num_train))  # 0~4995까지의 값이 순차적으로 있는 list\n",
    "np.random.shuffle(indices)        # 0~4995까지의 값이 랜덤하게 있는 list로 셔플\n",
    "\n",
    "split = int(np.floor(val_size * num_train))   # 4996 * 0.2 내림+정수 -> 999\n",
    "train_idx, valid_idx = indices[split:], indices[:split]\n",
    "\n",
    "train_sampler = SubsetRandomSampler(train_idx)\n",
    "valid_sampler = SubsetRandomSampler(valid_idx)"
   ]
  },
  {
   "cell_type": "markdown",
   "id": "a7341aae",
   "metadata": {},
   "source": [
    "<span style=\"color:green\">**[+]**</span> `SubsetRandomSampler` : parameter로 주어진 리스트 내의 값(인덱스)로만 1개씩 iterator로 랜덤추출"
   ]
  },
  {
   "cell_type": "markdown",
   "id": "1120f183",
   "metadata": {},
   "source": [
    "### 2-1-4. Make DataLoader"
   ]
  },
  {
   "cell_type": "code",
   "execution_count": 10,
   "id": "2ea9dbfa",
   "metadata": {},
   "outputs": [],
   "source": [
    "train_loader = torch.utils.data.DataLoader(train_data,\n",
    "                                           batch_size = batch_size,\n",
    "                                           sampler = train_sampler,\n",
    "                                           num_workers = num_workers)\n",
    "\n",
    "valid_loader = torch.utils.data.DataLoader(train_data,\n",
    "                                           batch_size = batch_size,\n",
    "                                           sampler = valid_sampler,\n",
    "                                           num_workers = num_workers)\n",
    "\n",
    "test_loader = torch.utils.data.DataLoader(test_data,\n",
    "                                          batch_size = batch_size,\n",
    "                                          num_workers = num_workers)"
   ]
  },
  {
   "cell_type": "markdown",
   "id": "5449a7de",
   "metadata": {},
   "source": [
    "<span style=\"color:orange\">**[!]**</span> DataLoader는 리스트를 뱉음 $\\downarrow$ 아래참고\n",
    "1. 리스트 0번째 요소는 이미지 Tensor'들' (batch size x channels x height x width)\n",
    "2. 리스트 1번째 요소는 해당 이미지의 Label값'들'"
   ]
  },
  {
   "cell_type": "code",
   "execution_count": 11,
   "id": "c112f2fe",
   "metadata": {},
   "outputs": [
    {
     "data": {
      "text/plain": [
       "torch.Size([20, 3, 256, 256])"
      ]
     },
     "execution_count": 11,
     "metadata": {},
     "output_type": "execute_result"
    }
   ],
   "source": [
    "# DataLoader가 뱉는 리스트 0번째 요소 -> Tensor (Batch단위)\n",
    "next(iter(train_loader))[0].shape"
   ]
  },
  {
   "cell_type": "code",
   "execution_count": 12,
   "id": "4854dc03",
   "metadata": {},
   "outputs": [
    {
     "data": {
      "text/plain": [
       "tensor([30, 11, 31, 18, 30, 13, 23, 35, 36, 11,  4, 41, 11, 17, 25, 36, 38, 42,\n",
       "        29, 24])"
      ]
     },
     "execution_count": 12,
     "metadata": {},
     "output_type": "execute_result"
    }
   ],
   "source": [
    "# DataLoader가 뱉는 리스트 1번째 요소 -> Label (Batch단위)\n",
    "next(iter(train_loader))[1]"
   ]
  },
  {
   "cell_type": "markdown",
   "id": "5643aadc",
   "metadata": {},
   "source": [
    "<span style=\"color:green\">**[+]**</span> DataLoader Dictionary 생성 $\\downarrow$"
   ]
  },
  {
   "cell_type": "code",
   "execution_count": 13,
   "id": "eed6c897",
   "metadata": {},
   "outputs": [],
   "source": [
    "loaders_scratch = {'train' : train_loader,\n",
    "                   'valid' : valid_loader,\n",
    "                   'test' : test_loader}"
   ]
  },
  {
   "cell_type": "markdown",
   "id": "e5a2fdfb",
   "metadata": {},
   "source": [
    "<span style=\"color:green\">**[+]**</span> 이미지 데이터의 Class 체크 $\\downarrow$"
   ]
  },
  {
   "cell_type": "code",
   "execution_count": 58,
   "id": "d61e5c62",
   "metadata": {},
   "outputs": [],
   "source": [
    "classes = [classes_name.split(\".\")[1] for classes_name in train_data.classes]"
   ]
  },
  {
   "cell_type": "code",
   "execution_count": 59,
   "id": "352d3fd3",
   "metadata": {},
   "outputs": [
    {
     "data": {
      "text/plain": [
       "['Haleakala_National_Park',\n",
       " 'Mount_Rainier_National_Park',\n",
       " 'Ljubljana_Castle',\n",
       " 'Dead_Sea',\n",
       " 'Wroclaws_Dwarves']"
      ]
     },
     "execution_count": 59,
     "metadata": {},
     "output_type": "execute_result"
    }
   ],
   "source": [
    "classes[:5]"
   ]
  },
  {
   "cell_type": "markdown",
   "id": "38d1b24c",
   "metadata": {},
   "source": [
    "## 2-2. Visualize a Batch of Training Data "
   ]
  },
  {
   "cell_type": "markdown",
   "id": "93afb450",
   "metadata": {},
   "source": [
    "<span style=\"color:green\">**[+]**</span> `torchvision.datasets.ImageFolder` 객체는 iterator로 사용 시 1개의 이미지 Tensor와 해당 이미지의 Label값을 Tuple로 뱉는다"
   ]
  },
  {
   "cell_type": "code",
   "execution_count": 9,
   "id": "e2517ff9",
   "metadata": {},
   "outputs": [
    {
     "data": {
      "text/plain": [
       "torchvision.datasets.folder.ImageFolder"
      ]
     },
     "execution_count": 9,
     "metadata": {},
     "output_type": "execute_result"
    }
   ],
   "source": [
    "type(train_data)"
   ]
  },
  {
   "cell_type": "code",
   "execution_count": 10,
   "id": "e71b0603",
   "metadata": {},
   "outputs": [
    {
     "data": {
      "text/plain": [
       "(tensor([[[-0.7647, -0.7412, -0.7020,  ...,  1.0000,  1.0000,  1.0000],\n",
       "          [-0.5608, -0.5765, -0.5608,  ...,  1.0000,  1.0000,  1.0000],\n",
       "          [-0.5294, -0.4745, -0.4745,  ...,  1.0000,  1.0000,  1.0000],\n",
       "          ...,\n",
       "          [-0.9059, -0.9059, -0.9137,  ..., -0.2784, -0.2784, -0.2863],\n",
       "          [-0.8980, -0.9059, -0.8980,  ..., -0.2863, -0.2706, -0.2392],\n",
       "          [-0.9137, -0.9294, -0.9294,  ..., -0.2784, -0.2314, -0.1529]],\n",
       " \n",
       "         [[-0.7412, -0.7255, -0.7020,  ...,  1.0000,  1.0000,  1.0000],\n",
       "          [-0.5451, -0.5608, -0.5686,  ...,  1.0000,  1.0000,  1.0000],\n",
       "          [-0.5137, -0.4588, -0.4824,  ...,  1.0000,  1.0000,  1.0000],\n",
       "          ...,\n",
       "          [-0.9059, -0.9216, -0.9137,  ..., -0.3412, -0.3255, -0.3333],\n",
       "          [-0.8667, -0.8980, -0.8980,  ..., -0.3333, -0.3176, -0.2941],\n",
       "          [-0.8431, -0.8980, -0.8980,  ..., -0.3098, -0.2784, -0.2157]],\n",
       " \n",
       "         [[-0.7490, -0.7333, -0.6941,  ...,  1.0000,  1.0000,  1.0000],\n",
       "          [-0.5529, -0.5686, -0.5608,  ...,  1.0000,  1.0000,  1.0000],\n",
       "          [-0.5216, -0.4667, -0.4667,  ...,  1.0000,  1.0000,  1.0000],\n",
       "          ...,\n",
       "          [-0.9216, -0.8902, -0.8824,  ..., -0.3020, -0.3020, -0.3255],\n",
       "          [-0.9137, -0.8980, -0.8745,  ..., -0.3255, -0.3255, -0.3098],\n",
       "          [-0.9059, -0.9373, -0.9451,  ..., -0.3647, -0.3333, -0.2784]]]),\n",
       " 0)"
      ]
     },
     "execution_count": 10,
     "metadata": {},
     "output_type": "execute_result"
    }
   ],
   "source": [
    "# torchvision.datasets.ImageFolder가 뱉는 Tuple \n",
    "# 자세히보면 맨 아래에 Label값 0이 있다\n",
    "next(iter(train_data))"
   ]
  },
  {
   "cell_type": "code",
   "execution_count": 17,
   "id": "5b9df089",
   "metadata": {},
   "outputs": [
    {
     "name": "stdout",
     "output_type": "stream",
     "text": [
      "이미지 Tensor shape : torch.Size([3, 256, 256])\n",
      "이미지 label : 43\n"
     ]
    }
   ],
   "source": [
    "t_img_tensor = train_data[4321][0]\n",
    "t_img_label = train_data[4321][1]\n",
    "# 첫번째 인덱스 : train data에서 n번째 이미지와 라벨\n",
    "# 두번째 인덱스 : n번째 이미지(1개)에서 이미지 Tensor만\n",
    "print(f\"이미지 Tensor shape : {t_img_tensor.shape}\")\n",
    "print(f\"이미지 label : {t_img_label}\")"
   ]
  },
  {
   "cell_type": "markdown",
   "id": "339674cc",
   "metadata": {},
   "source": [
    "<span style=\"color:green\">**[+]**</span> `torchvision.transforms`를 통하여 normalize 및 tensor로 변환된 이미지 텐서를 다시 NumPy Array로 바꿔주기\n",
    "\n",
    "`transforms.Compose([ ])`의 역순, 즉 tensor로 변환 후 normalize해줬으므로\n",
    "\n",
    "여기서는 Un-normalize해주고 Tensor $\\rightarrow$ Numpy Array"
   ]
  },
  {
   "cell_type": "code",
   "execution_count": 18,
   "id": "e39a0402",
   "metadata": {},
   "outputs": [],
   "source": [
    "# Un-normalize (normalize시 0.5로 나눠주고 0.5를 뺏으므로 역으로)\n",
    "t_img_tensor_unnormalized = t_img_tensor * 0.5 + 0.5    "
   ]
  },
  {
   "cell_type": "code",
   "execution_count": 19,
   "id": "24525bc7",
   "metadata": {},
   "outputs": [],
   "source": [
    "t_img_tensor_unnormalized_nparray = np.transpose(np.asarray(t_img_tensor_unnormalized),\n",
    "                                                 (1,2,0))"
   ]
  },
  {
   "cell_type": "code",
   "execution_count": 20,
   "id": "0c1aa0b8",
   "metadata": {},
   "outputs": [],
   "source": [
    "t_img_nparray = (t_img_tensor_unnormalized_nparray * 255).astype(np.uint8)"
   ]
  },
  {
   "cell_type": "code",
   "execution_count": 21,
   "id": "599cbadf",
   "metadata": {},
   "outputs": [],
   "source": [
    "img = Image.fromarray(t_img_nparray)"
   ]
  },
  {
   "cell_type": "code",
   "execution_count": 22,
   "id": "c018227c",
   "metadata": {},
   "outputs": [
    {
     "data": {
      "image/png": "[encoded data removed]",
      "text/plain": [
       "<PIL.Image.Image image mode=RGB size=256x256 at 0x22F08BC1E20>"
      ]
     },
     "execution_count": 22,
     "metadata": {},
     "output_type": "execute_result"
    }
   ],
   "source": [
    "img"
   ]
  },
  {
   "cell_type": "markdown",
   "id": "ad4037b5",
   "metadata": {},
   "source": [
    "### 2-2-1. Un-Transform Function (for Visualization)"
   ]
  },
  {
   "cell_type": "code",
   "execution_count": 23,
   "id": "8343956e",
   "metadata": {},
   "outputs": [],
   "source": [
    "def Untransform(image_tensor):\n",
    "    image_tensor_unnormalized = (image_tensor * 0.5) + 0.5\n",
    "    image_array_unnormalized = np.transpose(np.asarray(image_tensor_unnormalized),\n",
    "                                           (1,2,0))\n",
    "#     plt.imshow(image_array_unnormalized)\n",
    "    image_array = (image_array_unnormalized * 255).astype(np.uint8)\n",
    "    \n",
    "    return image_array"
   ]
  },
  {
   "cell_type": "code",
   "execution_count": 25,
   "id": "281bbe0e",
   "metadata": {},
   "outputs": [
    {
     "data": {
      "image/png": "[encoded data removed]",
      "text/plain": [
       "<PIL.Image.Image image mode=RGB size=256x256 at 0x22F08BB5E20>"
      ]
     },
     "execution_count": 25,
     "metadata": {},
     "output_type": "execute_result"
    }
   ],
   "source": [
    "# PIL.Image로 시각화 해보기\n",
    "Image.fromarray(Untransform(train_data[743][0]))"
   ]
  },
  {
   "cell_type": "markdown",
   "id": "db464dfb",
   "metadata": {},
   "source": [
    "<span style=\"color:orange\">**[!]**</span> `matplotlib.pyplot.imshow()`에서 계속 에러나와서 시각화 포기"
   ]
  },
  {
   "cell_type": "markdown",
   "id": "d1897cde",
   "metadata": {},
   "source": [
    "## 2-3. CUDA"
   ]
  },
  {
   "cell_type": "code",
   "execution_count": 26,
   "id": "831dbb64",
   "metadata": {},
   "outputs": [],
   "source": [
    "use_cuda = torch.cuda.is_available()"
   ]
  },
  {
   "cell_type": "code",
   "execution_count": 27,
   "id": "27557a1f",
   "metadata": {},
   "outputs": [
    {
     "name": "stdout",
     "output_type": "stream",
     "text": [
      "CUDA is not available. Training on CPU ...\n"
     ]
    }
   ],
   "source": [
    "if not use_cuda:\n",
    "    print(\"CUDA is not available. Training on CPU ...\")\n",
    "else:\n",
    "    print(\"CUDA is available! Training on GPU ...\")"
   ]
  },
  {
   "cell_type": "markdown",
   "id": "cd8f1b87",
   "metadata": {},
   "source": [
    "## 2-4. Specify Loss Function and Optimizer"
   ]
  },
  {
   "cell_type": "code",
   "execution_count": 28,
   "id": "df627824",
   "metadata": {},
   "outputs": [],
   "source": [
    "# import torch.optim as optim\n",
    "# import torch.nn as nn\n",
    "\n",
    "criterion_scratch = nn.CrossEntropyLoss()\n",
    "\n",
    "def get_optimizer_scratch(model):\n",
    "    return optim.SGD(model.parameters(), lr=0.01)"
   ]
  },
  {
   "cell_type": "markdown",
   "id": "c41849bf",
   "metadata": {},
   "source": [
    "## 2-5. Model Architecture\n",
    "<span style=\"color:green\">**[+]**</span> **Max Pooling layer** :`MaxPool2d(kerne_size=2, stride=2)` 를 지나가면 이미지의 Height, Width가 절반씩 줄어든다\n",
    "\n",
    "* *Size : (depth x height x width)\n",
    "* input size : (3 x 256 x 256)\n",
    "* conv1+pool output size : (16 x 128 x 128)\n",
    "* conv2+pool output size : (32 x 64 x 64) \n",
    "* conv3|+pool output size : (64 x 32 x 32)\n",
    "\n",
    "<span style=\"color:orange\">**[!]**</span> 따라서 첫번째 Fully-Connected Layer에 들어가는 input node 개수는 (64 x 32 x 32) "
   ]
  },
  {
   "cell_type": "code",
   "execution_count": 29,
   "id": "8cbad822",
   "metadata": {},
   "outputs": [],
   "source": [
    "# import torch.nn as nn\n",
    "# import torch.nn.functional as F\n",
    "\n",
    "class Net(nn.Module):\n",
    "    def __init__(self):\n",
    "        super(Net, self).__init__()\n",
    "        self.conv1 = nn.Conv2d(3, 16, kernel_size=3, padding=1)   \n",
    "        self.conv2 = nn.Conv2d(16, 32, kernel_size=3, padding=1)\n",
    "        self.conv3 = nn.Conv2d(32, 64, kernel_size=3, padding=1)\n",
    "        \n",
    "        self.pool = nn.MaxPool2d(kernel_size=2, stride=2)\n",
    "        \n",
    "        self.fc1 = nn.Linear(64*32*32, 1024)\n",
    "        self.fc2 = nn.Linear(1024, 256)\n",
    "        self.fc3 = nn.Linear(256, 50)\n",
    "        self.dropout = nn.Dropout(0.3)\n",
    "        \n",
    "    def forward(self, x):\n",
    "        x = self.pool(F.relu(self.conv1(x)))\n",
    "        x = self.pool(F.relu(self.conv2(x)))\n",
    "        x = self.pool(F.relu(self.conv3(x)))\n",
    "        \n",
    "        x = x.view(-1, 64*32*32)\n",
    "        \n",
    "        x = self.dropout(x)\n",
    "        x = F.relu(self.fc1(x))\n",
    "        x = self.dropout(x)\n",
    "        x = F.relu(self.fc2(x))\n",
    "        x = self.dropout(x)\n",
    "        x = self.fc3(x)\n",
    "        \n",
    "        return x\n",
    "    \n",
    "model_scratch = Net()\n",
    "\n",
    "if use_cuda:\n",
    "    model_scratch.cuda()"
   ]
  },
  {
   "cell_type": "markdown",
   "id": "b75175df",
   "metadata": {},
   "source": [
    "## 2-6. Training Function"
   ]
  },
  {
   "cell_type": "code",
   "execution_count": 30,
   "id": "5787b757",
   "metadata": {},
   "outputs": [],
   "source": [
    "def train(n_epochs, loaders, model, optimizer, criterion, use_cuda, save_path):\n",
    "    # initialize tracker for minimum validation loss\n",
    "    valid_loss_min = np.Inf\n",
    "    \n",
    "    for epoch in range(1, n_epochs+1):\n",
    "        \n",
    "        # Check epoch Start time\n",
    "        epoch_start_time = time.time()\n",
    "        \n",
    "        # initialize variables to monitor training and validation loss\n",
    "        train_loss = 0.0\n",
    "        valid_loss = 0.0\n",
    "        \n",
    "        ###################\n",
    "        # Train the model #\n",
    "        ###################\n",
    "        \n",
    "        # Set the model to training mode\n",
    "        model.train()\n",
    "        \n",
    "        for batch_idx ,(data, target) in enumerate(loaders['train']):\n",
    "            # move to GPU\n",
    "            if use_cuda:\n",
    "                data, target = data.cuda(), target.cuda()\n",
    "                \n",
    "            optimizer.zero_grad()\n",
    "            output = model(data)\n",
    "            loss = criterion(output, target)\n",
    "            loss.backward()\n",
    "            optimizer.step()\n",
    "            train_loss = train_loss + ((1 / (batch_idx + 1)) * (loss.data.item() - train_loss))\n",
    "            \n",
    "        ######################\n",
    "        # Validate the model #\n",
    "        ######################\n",
    "        \n",
    "        # Set the model to evaluation mode\n",
    "        model.eval()\n",
    "        \n",
    "        for batch_idx, (data, target) in enumerate(loaders['valid']):\n",
    "            # move to GPU\n",
    "            if use_cuda:\n",
    "                data, target = data.cuda(), target.cuda()\n",
    "                \n",
    "            output = model(data)\n",
    "            loss = criterion(output, target)\n",
    "            valid_loss = valid_loss + ((1 / (batch_idx + 1)) * (loss.data.item() - valid_loss))\n",
    "            \n",
    "        \n",
    "        \n",
    "        # Print training / validation statistics\n",
    "        print(\"Epoch : {} \\tTraining Loss : {:.6f} \\tValidation Loss : {:.6f}\".format(\n",
    "            epoch,\n",
    "            train_loss,\n",
    "            valid_loss\n",
    "        ))\n",
    "        \n",
    "        \n",
    "        # If the validation loss has decreased. save the model at the file path (svae_path)\n",
    "        if valid_loss <= valid_loss_min:\n",
    "            print(\"Validation loss decreased {:.6f} --> {:.6f} Saving model ...\".format(\n",
    "                valid_loss_min,\n",
    "                valid_loss))\n",
    "            \n",
    "            torch.save(model.state_dict(), save_path)\n",
    "            valid_loss_min = valid_loss\n",
    "            \n",
    "        \n",
    "        # Check 1 epoch Running Time\n",
    "        epoch_end_time = time.time()\n",
    "        print(\"Running time : {:.2f}[sec]\".format(epoch_end_time - epoch_start_time))\n",
    "            \n",
    "            \n",
    "    return model    "
   ]
  },
  {
   "cell_type": "markdown",
   "id": "4ed817b9",
   "metadata": {},
   "source": [
    "## 2-7. Weight Initialization\n",
    "\n",
    "\n",
    "Weight Initialization, 즉 가중치 초기화: 가중치를 0 or 1처럼 모두 같은값으로 시작하면 Backpropagation 시 어떤 node의 가중치에다가 Gradient Descent를 해야되는지 파악이 잘 되지않는다.\n",
    "\n",
    "따라서 가중치 초기화를 해준다\n",
    "\n",
    "\n",
    "<span style=\"color:orange\">**[!]**</span> 여기서의 weight는 Fully-Connected Layer의 weight?\n",
    "\n",
    "1. 가중치 초기화 함수를 만들고\n",
    "2. 간단한 테스트를 해보자"
   ]
  },
  {
   "cell_type": "markdown",
   "id": "ddc5e1ef",
   "metadata": {},
   "source": [
    "### 2-7-1. Weight Initialization function\n",
    "\n",
    "* Normal Distribution weight initialization\n",
    "\n",
    "<span style=\"color:red\">**[?]**</span> 아래의 `m.__class__.__name__`(m = model) 으로만 접근하면 그냥 'Net'밖에 나오지않는다... if문속에서는 어떻게 돌아가는걸까?"
   ]
  },
  {
   "cell_type": "code",
   "execution_count": 31,
   "id": "080b5ff6",
   "metadata": {},
   "outputs": [],
   "source": [
    "def custom_weight_init(m):\n",
    "    \n",
    "    classname = m.__class__.__name__     # Class틀로 만든 Class를 뜻하는 Instance의 Class의 이름을 부를때\n",
    "    \n",
    "    if classname.find('Linear') != -1:\n",
    "        n = m.in_features                # 해당 Layer의 input node 개수\n",
    "        y = 1.0 / np.sqrt(n)\n",
    "        \n",
    "        m.weight.data.normal_(0, y)      # 가중치를 평균 0, 표준편차 y인 normal distribution으로!\n",
    "        m.bias.data.fill_(0)             # bias는 0\n",
    "    "
   ]
  },
  {
   "cell_type": "markdown",
   "id": "8a09bd21",
   "metadata": {},
   "source": [
    "### 2-7-2. Weight Initialization model test\n",
    "\n",
    "<span style=\"color:orange\">**[!]**</span> 1 epoch당 대략 3~4분이 걸려서 일단 2 epoch만 돌려봄\n",
    "\n",
    "<span style=\"color:orange\">**[!]**</span> 모델파일 epoch 2회했는데도 대략 200MB가 넘는다. Git Repository에 올릴 수 없으므로 따로 경로 지정해서 저장해주자"
   ]
  },
  {
   "cell_type": "code",
   "execution_count": 40,
   "id": "d039768f",
   "metadata": {},
   "outputs": [],
   "source": [
    "# project folder path <- code / model / image dataset\n",
    "model_folder_path = 'C:/Users/USER/Desktop/Landmark_Classification/model/'\n",
    "weight_init_model_path = os.path.join( model_folder_path, 'weight_init_model.pt')"
   ]
  },
  {
   "cell_type": "code",
   "execution_count": 96,
   "id": "2fa155e6",
   "metadata": {},
   "outputs": [
    {
     "name": "stdout",
     "output_type": "stream",
     "text": [
      "Epoch : 1 \tTraining Loss : 3.802500 \tValidation Loss : 3.620704\n",
      "Validation loss decreased inf --> 3.620704 Saving model ...\n",
      "Running time : 222.54[sec]\n",
      "Epoch : 2 \tTraining Loss : 3.611189 \tValidation Loss : 3.553289\n",
      "Validation loss decreased 3.620704 --> 3.553289 Saving model ...\n",
      "Running time : 222.31[sec]\n"
     ]
    }
   ],
   "source": [
    "model_scratch.apply(custom_weight_init)\n",
    "\n",
    "model_scratch = train(n_epochs = 2,\n",
    "                      loaders = loaders_scratch,\n",
    "                      model = model_scratch,\n",
    "                      optimizer = get_optimizer_scratch(model_scratch),\n",
    "                      criterion = criterion_scratch,\n",
    "                      use_cuda = use_cuda,\n",
    "                      save_path = weight_init_model_path)"
   ]
  },
  {
   "cell_type": "markdown",
   "id": "feb97515",
   "metadata": {},
   "source": [
    "## 2-8. Train and Validate the Model"
   ]
  },
  {
   "cell_type": "code",
   "execution_count": 33,
   "id": "7f28868e",
   "metadata": {},
   "outputs": [
    {
     "data": {
      "text/plain": [
       "Net(\n",
       "  (conv1): Conv2d(3, 16, kernel_size=(3, 3), stride=(1, 1), padding=(1, 1))\n",
       "  (conv2): Conv2d(16, 32, kernel_size=(3, 3), stride=(1, 1), padding=(1, 1))\n",
       "  (conv3): Conv2d(32, 64, kernel_size=(3, 3), stride=(1, 1), padding=(1, 1))\n",
       "  (pool): MaxPool2d(kernel_size=2, stride=2, padding=0, dilation=1, ceil_mode=False)\n",
       "  (fc1): Linear(in_features=65536, out_features=1024, bias=True)\n",
       "  (fc2): Linear(in_features=1024, out_features=256, bias=True)\n",
       "  (fc3): Linear(in_features=256, out_features=50, bias=True)\n",
       "  (dropout): Dropout(p=0.3, inplace=False)\n",
       ")"
      ]
     },
     "execution_count": 33,
     "metadata": {},
     "output_type": "execute_result"
    }
   ],
   "source": [
    "num_epochs = 10\n",
    "\n",
    "\n",
    "# Udacity 제공 function\n",
    "# Function to re-initialize a model with pytorch's default weight initialization\n",
    "def default_weight_init(m):\n",
    "    reset_parameters = getattr(m, 'reset_parameters', None)\n",
    "    if callable(reset_parameters):\n",
    "        m.reset_parameters()\n",
    "        \n",
    "# Reset the model parameters\n",
    "model_scratch.apply(default_weight_init)"
   ]
  },
  {
   "cell_type": "markdown",
   "id": "48911043",
   "metadata": {},
   "source": [
    "<span style=\"color:orange\">**[!]**</span>  Git repo 용량문제로 인한 model 저장 폴더 따로 설정하기 $\\downarrow$"
   ]
  },
  {
   "cell_type": "code",
   "execution_count": 43,
   "id": "6387ad52",
   "metadata": {},
   "outputs": [],
   "source": [
    "model_folder_path = 'C:/Users/USER/Desktop/Landmark_Classification/model/'\n",
    "model_scratch_path = os.path.join(model_folder_path, 'model_scratch.pt')\n",
    "# print(model_scratch_path)"
   ]
  },
  {
   "cell_type": "code",
   "execution_count": 44,
   "id": "cd59401e",
   "metadata": {},
   "outputs": [],
   "source": [
    "#################################################################"
   ]
  },
  {
   "cell_type": "code",
   "execution_count": 32,
   "id": "1110d8c5",
   "metadata": {},
   "outputs": [
    {
     "data": {
      "text/plain": [
       "Net(\n",
       "  (conv1): Conv2d(3, 16, kernel_size=(3, 3), stride=(1, 1), padding=(1, 1))\n",
       "  (conv2): Conv2d(16, 32, kernel_size=(3, 3), stride=(1, 1), padding=(1, 1))\n",
       "  (conv3): Conv2d(32, 64, kernel_size=(3, 3), stride=(1, 1), padding=(1, 1))\n",
       "  (pool): MaxPool2d(kernel_size=2, stride=2, padding=0, dilation=1, ceil_mode=False)\n",
       "  (fc1): Linear(in_features=65536, out_features=1024, bias=True)\n",
       "  (fc2): Linear(in_features=1024, out_features=256, bias=True)\n",
       "  (fc3): Linear(in_features=256, out_features=50, bias=True)\n",
       "  (dropout): Dropout(p=0.3, inplace=False)\n",
       ")"
      ]
     },
     "execution_count": 32,
     "metadata": {},
     "output_type": "execute_result"
    }
   ],
   "source": [
    "model_scratch = train(n_epochs = num_epochs,\n",
    "                      loaders = loaders_scratch,\n",
    "                      model = model_scratch,\n",
    "                      optimizer = get_optimizer_scratch(model_scratch),\n",
    "                      criterion = criterion_scratch,\n",
    "                      use_cuda = use_cuda,\n",
    "                      save_path = model_scratch_path\n",
    "                      )"
   ]
  },
  {
   "cell_type": "code",
   "execution_count": 45,
   "id": "86dc9236",
   "metadata": {},
   "outputs": [],
   "source": [
    "######################################################################"
   ]
  },
  {
   "cell_type": "markdown",
   "id": "b035dbd8",
   "metadata": {},
   "source": [
    "## 2-9. Test the Model\n",
    "Ensure that your test accuracy is greater than 20%"
   ]
  },
  {
   "cell_type": "code",
   "execution_count": 47,
   "id": "575c84c0",
   "metadata": {},
   "outputs": [],
   "source": [
    "def test(loaders, model, criterion, use_cuda):\n",
    "    \n",
    "    # Monitor test loss and accuracy\n",
    "    test_loss = 0.\n",
    "    correct = 0.\n",
    "    total = 0.\n",
    "    \n",
    "    # Set the module to evaluation mode\n",
    "    model.eval()\n",
    "    \n",
    "    \n",
    "    for batch_idx, (data, target) in enumerate(loaders['test']):\n",
    "        \n",
    "        if use_cuda:\n",
    "            data, target = data.cuda(), target.cuda()   # move to GPU\n",
    "            \n",
    "        output = model(data)\n",
    "        loss = criterion(output, target)\n",
    "        \n",
    "        test_loss = test_loss + ((1 / (batch_idx + 1)) * (loss.data.item() - test_loss))\n",
    "        \n",
    "        # Convert output probabilities to predicted class\n",
    "        pred = output.data.max(1, keepdim=True)[1]\n",
    "        \n",
    "        # Compare predictions to true label\n",
    "        correct += np.sum(np.squeeze(pred.eq(target.data.view_as(pred))).cpu().numpy())\n",
    "        \n",
    "        total += data.size(0)\n",
    "        \n",
    "    \n",
    "    print(\"Test Loss : {:.6f}\\n\".format(test_loss))\n",
    "    \n",
    "    print(\"\\nTest Accuracy: %2d%% (%2d/%2d)\" %(100. * correct / total, correct, total))\n",
    "    \n"
   ]
  },
  {
   "cell_type": "markdown",
   "id": "cc080a05",
   "metadata": {},
   "source": [
    "### 2-9-1. Load the Best model "
   ]
  },
  {
   "cell_type": "code",
   "execution_count": 48,
   "id": "4cb8a7c2",
   "metadata": {
    "collapsed": true
   },
   "outputs": [
    {
     "ename": "FileNotFoundError",
     "evalue": "[Errno 2] No such file or directory: 'model_scratch.pt'",
     "output_type": "error",
     "traceback": [
      "\u001b[1;31m---------------------------------------------------------------------------\u001b[0m",
      "\u001b[1;31mFileNotFoundError\u001b[0m                         Traceback (most recent call last)",
      "\u001b[1;32m~\\AppData\\Local\\Temp/ipykernel_7004/1976817953.py\u001b[0m in \u001b[0;36m<module>\u001b[1;34m\u001b[0m\n\u001b[1;32m----> 1\u001b[1;33m \u001b[0mmodel_scratch\u001b[0m\u001b[1;33m.\u001b[0m\u001b[0mload_state_dict\u001b[0m\u001b[1;33m(\u001b[0m\u001b[0mtorch\u001b[0m\u001b[1;33m.\u001b[0m\u001b[0mload\u001b[0m\u001b[1;33m(\u001b[0m\u001b[1;34m'model_scratch.pt'\u001b[0m\u001b[1;33m)\u001b[0m\u001b[1;33m)\u001b[0m\u001b[1;33m\u001b[0m\u001b[1;33m\u001b[0m\u001b[0m\n\u001b[0m",
      "\u001b[1;32mC:\\ProgramData\\Anaconda3\\lib\\site-packages\\torch\\serialization.py\u001b[0m in \u001b[0;36mload\u001b[1;34m(f, map_location, pickle_module, **pickle_load_args)\u001b[0m\n\u001b[0;32m    697\u001b[0m         \u001b[0mpickle_load_args\u001b[0m\u001b[1;33m[\u001b[0m\u001b[1;34m'encoding'\u001b[0m\u001b[1;33m]\u001b[0m \u001b[1;33m=\u001b[0m \u001b[1;34m'utf-8'\u001b[0m\u001b[1;33m\u001b[0m\u001b[1;33m\u001b[0m\u001b[0m\n\u001b[0;32m    698\u001b[0m \u001b[1;33m\u001b[0m\u001b[0m\n\u001b[1;32m--> 699\u001b[1;33m     \u001b[1;32mwith\u001b[0m \u001b[0m_open_file_like\u001b[0m\u001b[1;33m(\u001b[0m\u001b[0mf\u001b[0m\u001b[1;33m,\u001b[0m \u001b[1;34m'rb'\u001b[0m\u001b[1;33m)\u001b[0m \u001b[1;32mas\u001b[0m \u001b[0mopened_file\u001b[0m\u001b[1;33m:\u001b[0m\u001b[1;33m\u001b[0m\u001b[1;33m\u001b[0m\u001b[0m\n\u001b[0m\u001b[0;32m    700\u001b[0m         \u001b[1;32mif\u001b[0m \u001b[0m_is_zipfile\u001b[0m\u001b[1;33m(\u001b[0m\u001b[0mopened_file\u001b[0m\u001b[1;33m)\u001b[0m\u001b[1;33m:\u001b[0m\u001b[1;33m\u001b[0m\u001b[1;33m\u001b[0m\u001b[0m\n\u001b[0;32m    701\u001b[0m             \u001b[1;31m# The zipfile reader is going to advance the current file position.\u001b[0m\u001b[1;33m\u001b[0m\u001b[1;33m\u001b[0m\u001b[0m\n",
      "\u001b[1;32mC:\\ProgramData\\Anaconda3\\lib\\site-packages\\torch\\serialization.py\u001b[0m in \u001b[0;36m_open_file_like\u001b[1;34m(name_or_buffer, mode)\u001b[0m\n\u001b[0;32m    229\u001b[0m \u001b[1;32mdef\u001b[0m \u001b[0m_open_file_like\u001b[0m\u001b[1;33m(\u001b[0m\u001b[0mname_or_buffer\u001b[0m\u001b[1;33m,\u001b[0m \u001b[0mmode\u001b[0m\u001b[1;33m)\u001b[0m\u001b[1;33m:\u001b[0m\u001b[1;33m\u001b[0m\u001b[1;33m\u001b[0m\u001b[0m\n\u001b[0;32m    230\u001b[0m     \u001b[1;32mif\u001b[0m \u001b[0m_is_path\u001b[0m\u001b[1;33m(\u001b[0m\u001b[0mname_or_buffer\u001b[0m\u001b[1;33m)\u001b[0m\u001b[1;33m:\u001b[0m\u001b[1;33m\u001b[0m\u001b[1;33m\u001b[0m\u001b[0m\n\u001b[1;32m--> 231\u001b[1;33m         \u001b[1;32mreturn\u001b[0m \u001b[0m_open_file\u001b[0m\u001b[1;33m(\u001b[0m\u001b[0mname_or_buffer\u001b[0m\u001b[1;33m,\u001b[0m \u001b[0mmode\u001b[0m\u001b[1;33m)\u001b[0m\u001b[1;33m\u001b[0m\u001b[1;33m\u001b[0m\u001b[0m\n\u001b[0m\u001b[0;32m    232\u001b[0m     \u001b[1;32melse\u001b[0m\u001b[1;33m:\u001b[0m\u001b[1;33m\u001b[0m\u001b[1;33m\u001b[0m\u001b[0m\n\u001b[0;32m    233\u001b[0m         \u001b[1;32mif\u001b[0m \u001b[1;34m'w'\u001b[0m \u001b[1;32min\u001b[0m \u001b[0mmode\u001b[0m\u001b[1;33m:\u001b[0m\u001b[1;33m\u001b[0m\u001b[1;33m\u001b[0m\u001b[0m\n",
      "\u001b[1;32mC:\\ProgramData\\Anaconda3\\lib\\site-packages\\torch\\serialization.py\u001b[0m in \u001b[0;36m__init__\u001b[1;34m(self, name, mode)\u001b[0m\n\u001b[0;32m    210\u001b[0m \u001b[1;32mclass\u001b[0m \u001b[0m_open_file\u001b[0m\u001b[1;33m(\u001b[0m\u001b[0m_opener\u001b[0m\u001b[1;33m)\u001b[0m\u001b[1;33m:\u001b[0m\u001b[1;33m\u001b[0m\u001b[1;33m\u001b[0m\u001b[0m\n\u001b[0;32m    211\u001b[0m     \u001b[1;32mdef\u001b[0m \u001b[0m__init__\u001b[0m\u001b[1;33m(\u001b[0m\u001b[0mself\u001b[0m\u001b[1;33m,\u001b[0m \u001b[0mname\u001b[0m\u001b[1;33m,\u001b[0m \u001b[0mmode\u001b[0m\u001b[1;33m)\u001b[0m\u001b[1;33m:\u001b[0m\u001b[1;33m\u001b[0m\u001b[1;33m\u001b[0m\u001b[0m\n\u001b[1;32m--> 212\u001b[1;33m         \u001b[0msuper\u001b[0m\u001b[1;33m(\u001b[0m\u001b[0m_open_file\u001b[0m\u001b[1;33m,\u001b[0m \u001b[0mself\u001b[0m\u001b[1;33m)\u001b[0m\u001b[1;33m.\u001b[0m\u001b[0m__init__\u001b[0m\u001b[1;33m(\u001b[0m\u001b[0mopen\u001b[0m\u001b[1;33m(\u001b[0m\u001b[0mname\u001b[0m\u001b[1;33m,\u001b[0m \u001b[0mmode\u001b[0m\u001b[1;33m)\u001b[0m\u001b[1;33m)\u001b[0m\u001b[1;33m\u001b[0m\u001b[1;33m\u001b[0m\u001b[0m\n\u001b[0m\u001b[0;32m    213\u001b[0m \u001b[1;33m\u001b[0m\u001b[0m\n\u001b[0;32m    214\u001b[0m     \u001b[1;32mdef\u001b[0m \u001b[0m__exit__\u001b[0m\u001b[1;33m(\u001b[0m\u001b[0mself\u001b[0m\u001b[1;33m,\u001b[0m \u001b[1;33m*\u001b[0m\u001b[0margs\u001b[0m\u001b[1;33m)\u001b[0m\u001b[1;33m:\u001b[0m\u001b[1;33m\u001b[0m\u001b[1;33m\u001b[0m\u001b[0m\n",
      "\u001b[1;31mFileNotFoundError\u001b[0m: [Errno 2] No such file or directory: 'model_scratch.pt'"
     ]
    }
   ],
   "source": [
    "model_scratch.load_state_dict(torch.load('model_scratch.pt'))"
   ]
  },
  {
   "cell_type": "markdown",
   "id": "01ace0d8",
   "metadata": {},
   "source": [
    "### 2-9-2. Test "
   ]
  },
  {
   "cell_type": "code",
   "execution_count": null,
   "id": "b62a00c8",
   "metadata": {},
   "outputs": [],
   "source": [
    "test(loaders = loaders_scratch,\n",
    "     model = model.scratch,\n",
    "     criterion = criterion_scratch,\n",
    "     use_cuda = use_cuda)"
   ]
  },
  {
   "cell_type": "markdown",
   "id": "aad511d8",
   "metadata": {},
   "source": [
    "---"
   ]
  },
  {
   "cell_type": "markdown",
   "id": "b350ebf8",
   "metadata": {},
   "source": [
    "---"
   ]
  },
  {
   "cell_type": "markdown",
   "id": "931c22ee",
   "metadata": {},
   "source": [
    "# 3. Create a CNN (Transfer Learning)"
   ]
  },
  {
   "cell_type": "markdown",
   "id": "538f435d",
   "metadata": {},
   "source": [
    "You will now use transfer learning to create a CNN that can identify landmarks from images. Your CNN must attain at least 60% accuracy on the test set."
   ]
  },
  {
   "cell_type": "markdown",
   "id": "1aa3c137",
   "metadata": {},
   "source": [
    "## 3-1. DataLoaders\n",
    "\n",
    "<span style=\"color:orange\">**[!]**</span> CNN scratch에서 사용했던 데이터로더를 땡겨와도된다."
   ]
  },
  {
   "cell_type": "code",
   "execution_count": 49,
   "id": "18f73b33",
   "metadata": {},
   "outputs": [],
   "source": [
    "batch_size = 20\n",
    "valid_size = 0.2\n",
    "\n",
    "\n",
    "loaders_transfer = loaders_scratch.copy()      # scratch단계에서의 DataLoader copy"
   ]
  },
  {
   "cell_type": "markdown",
   "id": "8a2f4e4b",
   "metadata": {},
   "source": [
    "## 3-2. Specify Loss Function and Optimizer\n",
    "\n",
    "<span style=\"color:orange\">**[!]**</span> `model.parameters()`를 모두 데려오는 2-4. 와는 다르게 optimizer 생성 시 model의 classifier부분의 parameter만 가져옴 "
   ]
  },
  {
   "cell_type": "code",
   "execution_count": 50,
   "id": "82cbbc98",
   "metadata": {},
   "outputs": [],
   "source": [
    "# import torch.optim as optim\n",
    "# import torch.nn as nn\n",
    "\n",
    "criterion_transfer = nn.CrossEntropyLoss()\n",
    "\n",
    "def get_optimizer_transfer(model):\n",
    "    return optim.SGD(model.classifier.parameters(), lr=0.01)"
   ]
  },
  {
   "cell_type": "markdown",
   "id": "167a90bd",
   "metadata": {},
   "source": [
    "## 3-3. Model Architecture"
   ]
  },
  {
   "cell_type": "markdown",
   "id": "934945b3",
   "metadata": {},
   "source": [
    "### 3-3-1. Model Load(Transfer Learning)"
   ]
  },
  {
   "cell_type": "code",
   "execution_count": 51,
   "id": "5fa24c0f",
   "metadata": {},
   "outputs": [
    {
     "name": "stderr",
     "output_type": "stream",
     "text": [
      "Downloading: \"https://download.pytorch.org/models/vgg16-397923af.pth\" to C:\\Users\\USER/.cache\\torch\\hub\\checkpoints\\vgg16-397923af.pth\n"
     ]
    },
    {
     "data": {
      "application/vnd.jupyter.widget-view+json": {
       "model_id": "b78ba9df0a07441a826509d53019ffe6",
       "version_major": 2,
       "version_minor": 0
      },
      "text/plain": [
       "  0%|          | 0.00/528M [00:00<?, ?B/s]"
      ]
     },
     "metadata": {},
     "output_type": "display_data"
    }
   ],
   "source": [
    "# import torch.nn as nn\n",
    "from torchvision import models\n",
    "\n",
    "model_transfer = models.vgg16(pretrained=True)"
   ]
  },
  {
   "cell_type": "code",
   "execution_count": 54,
   "id": "2574f566",
   "metadata": {},
   "outputs": [
    {
     "data": {
      "text/plain": [
       "VGG(\n",
       "  (features): Sequential(\n",
       "    (0): Conv2d(3, 64, kernel_size=(3, 3), stride=(1, 1), padding=(1, 1))\n",
       "    (1): ReLU(inplace=True)\n",
       "    (2): Conv2d(64, 64, kernel_size=(3, 3), stride=(1, 1), padding=(1, 1))\n",
       "    (3): ReLU(inplace=True)\n",
       "    (4): MaxPool2d(kernel_size=2, stride=2, padding=0, dilation=1, ceil_mode=False)\n",
       "    (5): Conv2d(64, 128, kernel_size=(3, 3), stride=(1, 1), padding=(1, 1))\n",
       "    (6): ReLU(inplace=True)\n",
       "    (7): Conv2d(128, 128, kernel_size=(3, 3), stride=(1, 1), padding=(1, 1))\n",
       "    (8): ReLU(inplace=True)\n",
       "    (9): MaxPool2d(kernel_size=2, stride=2, padding=0, dilation=1, ceil_mode=False)\n",
       "    (10): Conv2d(128, 256, kernel_size=(3, 3), stride=(1, 1), padding=(1, 1))\n",
       "    (11): ReLU(inplace=True)\n",
       "    (12): Conv2d(256, 256, kernel_size=(3, 3), stride=(1, 1), padding=(1, 1))\n",
       "    (13): ReLU(inplace=True)\n",
       "    (14): Conv2d(256, 256, kernel_size=(3, 3), stride=(1, 1), padding=(1, 1))\n",
       "    (15): ReLU(inplace=True)\n",
       "    (16): MaxPool2d(kernel_size=2, stride=2, padding=0, dilation=1, ceil_mode=False)\n",
       "    (17): Conv2d(256, 512, kernel_size=(3, 3), stride=(1, 1), padding=(1, 1))\n",
       "    (18): ReLU(inplace=True)\n",
       "    (19): Conv2d(512, 512, kernel_size=(3, 3), stride=(1, 1), padding=(1, 1))\n",
       "    (20): ReLU(inplace=True)\n",
       "    (21): Conv2d(512, 512, kernel_size=(3, 3), stride=(1, 1), padding=(1, 1))\n",
       "    (22): ReLU(inplace=True)\n",
       "    (23): MaxPool2d(kernel_size=2, stride=2, padding=0, dilation=1, ceil_mode=False)\n",
       "    (24): Conv2d(512, 512, kernel_size=(3, 3), stride=(1, 1), padding=(1, 1))\n",
       "    (25): ReLU(inplace=True)\n",
       "    (26): Conv2d(512, 512, kernel_size=(3, 3), stride=(1, 1), padding=(1, 1))\n",
       "    (27): ReLU(inplace=True)\n",
       "    (28): Conv2d(512, 512, kernel_size=(3, 3), stride=(1, 1), padding=(1, 1))\n",
       "    (29): ReLU(inplace=True)\n",
       "    (30): MaxPool2d(kernel_size=2, stride=2, padding=0, dilation=1, ceil_mode=False)\n",
       "  )\n",
       "  (avgpool): AdaptiveAvgPool2d(output_size=(7, 7))\n",
       "  (classifier): Sequential(\n",
       "    (0): Linear(in_features=25088, out_features=4096, bias=True)\n",
       "    (1): ReLU(inplace=True)\n",
       "    (2): Dropout(p=0.5, inplace=False)\n",
       "    (3): Linear(in_features=4096, out_features=4096, bias=True)\n",
       "    (4): ReLU(inplace=True)\n",
       "    (5): Dropout(p=0.5, inplace=False)\n",
       "    (6): Linear(in_features=4096, out_features=1000, bias=True)\n",
       "  )\n",
       ")"
      ]
     },
     "execution_count": 54,
     "metadata": {},
     "output_type": "execute_result"
    }
   ],
   "source": [
    "# Check the model (VGG16)\n",
    "model_transfer"
   ]
  },
  {
   "cell_type": "markdown",
   "id": "f2154d97",
   "metadata": {},
   "source": [
    "### 3-3-2. Freezing weights"
   ]
  },
  {
   "cell_type": "code",
   "execution_count": null,
   "id": "dae49310",
   "metadata": {},
   "outputs": [],
   "source": [
    "for param in model_transfer.features.parameters():\n",
    "    param.require_grad = False"
   ]
  },
  {
   "cell_type": "markdown",
   "id": "1c87b9b6",
   "metadata": {},
   "source": [
    "### 3-3-3. Replace last layer\n",
    "\n",
    "<span style=\"color:green\">**[+]**</span> 마지막 층의 output node 개수를 클래스 수에 맞춰주기 위해서 마지막층변경"
   ]
  },
  {
   "cell_type": "code",
   "execution_count": 56,
   "id": "826f211c",
   "metadata": {},
   "outputs": [
    {
     "data": {
      "text/plain": [
       "Linear(in_features=4096, out_features=1000, bias=True)"
      ]
     },
     "execution_count": 56,
     "metadata": {},
     "output_type": "execute_result"
    }
   ],
   "source": [
    "model_transfer.classifier[6]       # VGG16 모델의 마지막 층 in_features check"
   ]
  },
  {
   "cell_type": "code",
   "execution_count": 61,
   "id": "dda0d635",
   "metadata": {},
   "outputs": [
    {
     "data": {
      "text/plain": [
       "50"
      ]
     },
     "execution_count": 61,
     "metadata": {},
     "output_type": "execute_result"
    }
   ],
   "source": [
    "len(classes)                        # 우리가 원하는 최종 output node 수 = class 수"
   ]
  },
  {
   "cell_type": "code",
   "execution_count": 62,
   "id": "cca93d76",
   "metadata": {},
   "outputs": [],
   "source": [
    "model_transfer.classifier[6] = nn.Linear(in_features = model_transfer.classifier[6].in_features,\n",
    "                                         out_features = len(classes))"
   ]
  },
  {
   "cell_type": "code",
   "execution_count": 64,
   "id": "1348ff82",
   "metadata": {},
   "outputs": [
    {
     "data": {
      "text/plain": [
       "Sequential(\n",
       "  (0): Linear(in_features=25088, out_features=4096, bias=True)\n",
       "  (1): ReLU(inplace=True)\n",
       "  (2): Dropout(p=0.5, inplace=False)\n",
       "  (3): Linear(in_features=4096, out_features=4096, bias=True)\n",
       "  (4): ReLU(inplace=True)\n",
       "  (5): Dropout(p=0.5, inplace=False)\n",
       "  (6): Linear(in_features=4096, out_features=50, bias=True)\n",
       ")"
      ]
     },
     "execution_count": 64,
     "metadata": {},
     "output_type": "execute_result"
    }
   ],
   "source": [
    "# 4096, 1000 -> 4096, 50으로 변한거 체크\n",
    "\n",
    "model_transfer.classifier"
   ]
  },
  {
   "cell_type": "markdown",
   "id": "4dd5e730",
   "metadata": {},
   "source": [
    "## 3-4. Train and Validate the Model\n"
   ]
  },
  {
   "cell_type": "code",
   "execution_count": 66,
   "id": "1c549508",
   "metadata": {},
   "outputs": [],
   "source": [
    "model_folder_path = 'C:/Users/USER/Desktop/Landmark_Classification/model/'\n",
    "model_transfer_path = os.path.join(model_folder_path, 'model_trasnfer.pt')"
   ]
  },
  {
   "cell_type": "code",
   "execution_count": 67,
   "id": "7669a82c",
   "metadata": {},
   "outputs": [
    {
     "name": "stdout",
     "output_type": "stream",
     "text": [
      "Epoch : 1 \tTraining Loss : 2.227919 \tValidation Loss : 1.367389\n",
      "Validation loss decreased inf --> 1.367389 Saving model ...\n",
      "Running time : 2303.62[sec]\n",
      "Epoch : 2 \tTraining Loss : 1.238565 \tValidation Loss : 1.182433\n",
      "Validation loss decreased 1.367389 --> 1.182433 Saving model ...\n",
      "Running time : 2304.35[sec]\n",
      "Epoch : 3 \tTraining Loss : 0.928079 \tValidation Loss : 1.118389\n",
      "Validation loss decreased 1.182433 --> 1.118389 Saving model ...\n",
      "Running time : 2300.43[sec]\n",
      "Epoch : 4 \tTraining Loss : 0.733621 \tValidation Loss : 1.023865\n",
      "Validation loss decreased 1.118389 --> 1.023865 Saving model ...\n",
      "Running time : 2295.58[sec]\n",
      "Epoch : 5 \tTraining Loss : 0.560242 \tValidation Loss : 1.011263\n",
      "Validation loss decreased 1.023865 --> 1.011263 Saving model ...\n",
      "Running time : 2248.16[sec]\n",
      "Epoch : 6 \tTraining Loss : 0.450081 \tValidation Loss : 1.026510\n",
      "Running time : 2229.61[sec]\n",
      "Epoch : 7 \tTraining Loss : 0.366130 \tValidation Loss : 1.030023\n",
      "Running time : 2227.73[sec]\n",
      "Epoch : 8 \tTraining Loss : 0.279045 \tValidation Loss : 1.037396\n",
      "Running time : 2228.84[sec]\n",
      "Epoch : 9 \tTraining Loss : 0.236394 \tValidation Loss : 1.050917\n",
      "Running time : 2203.08[sec]\n",
      "Epoch : 10 \tTraining Loss : 0.192781 \tValidation Loss : 1.072331\n",
      "Running time : 2220.20[sec]\n"
     ]
    }
   ],
   "source": [
    "num_epochs = 10\n",
    "\n",
    "\n",
    "model_transfer = train(n_epochs = num_epochs,\n",
    "                       loaders = loaders_transfer,\n",
    "                       model = model_transfer,\n",
    "                       optimizer = get_optimizer_transfer(model_transfer),\n",
    "                       criterion = criterion_transfer,\n",
    "                       use_cuda = use_cuda,\n",
    "                       save_path = model_transfer_path\n",
    "                       )                 "
   ]
  },
  {
   "cell_type": "code",
   "execution_count": 68,
   "id": "aac7a8f6",
   "metadata": {},
   "outputs": [
    {
     "data": {
      "text/plain": [
       "33.333333333333336"
      ]
     },
     "execution_count": 68,
     "metadata": {},
     "output_type": "execute_result"
    }
   ],
   "source": [
    "2000/60"
   ]
  },
  {
   "cell_type": "code",
   "execution_count": null,
   "id": "6d75d024",
   "metadata": {},
   "outputs": [],
   "source": []
  }
 ],
 "metadata": {
  "kernelspec": {
   "display_name": "Python 3 (ipykernel)",
   "language": "python",
   "name": "python3"
  },
  "language_info": {
   "codemirror_mode": {
    "name": "ipython",
    "version": 3
   },
   "file_extension": ".py",
   "mimetype": "text/x-python",
   "name": "python",
   "nbconvert_exporter": "python",
   "pygments_lexer": "ipython3",
   "version": "3.9.7"
  }
 },
 "nbformat": 4,
 "nbformat_minor": 5
}
